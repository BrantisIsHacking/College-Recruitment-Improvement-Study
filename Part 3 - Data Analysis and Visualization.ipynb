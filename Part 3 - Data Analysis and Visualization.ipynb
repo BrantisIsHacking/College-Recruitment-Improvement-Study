{
 "cells": [
  {
   "cell_type": "markdown",
   "metadata": {},
   "source": [
    "# Part 3: Data Analysis and Visualization\n",
    "\n",
    "**Name:** Brayden Uglione\n",
    "\n",
    "**Date:** 10/10/24\n",
    "\n",
    "**Exercise:** Project #1, Data Analysis and Visualization\n",
    "\n",
    "**Purpose:** To analyze survey data from non-computing majors and provide insights that can help increase the number of students taking computing classes at CCM."
   ]
  },
  {
   "cell_type": "markdown",
   "metadata": {},
   "source": [
    "## Import Libraries and Load Data"
   ]
  },
  {
   "cell_type": "code",
   "execution_count": 1,
   "metadata": {},
   "outputs": [],
   "source": [
    "import pandas as pd\n",
    "import matplotlib.pyplot as plt\n",
    "\n",
    "# Load the cleaned data\n",
    "df = pd.read_csv('cleaned_non_majors_survey_results.csv')"
   ]
  },
  {
   "cell_type": "markdown",
   "metadata": {},
   "source": [
    "## Question 1: Which courses are students enrolled in?\n",
    "\n",
    "The code counts and filters student enrollments in specific courses, visualizes the distribution with a bar chart, and prints the enrollment counts alongside course names."
   ]
  },
  {
   "cell_type": "code",
   "execution_count": null,
   "metadata": {},
   "outputs": [],
   "source": [
    "# Count the number of students enrolled in each course\n",
    "course_counts = df['which_course_are_you_currently_enrolled_in'].value_counts()\n",
    "\n",
    "# Define a dictionary to map course codes to their full names\n",
    "course_key = {\n",
    "    'CMP 135': 'Computer Concepts with Applications',\n",
    "    'CMP 101': 'Computer Information Literacy',\n",
    "    'CMP 126': 'Computer Technology and Applications',\n",
    "}\n",
    "\n",
    "# Filter the course counts to include only the courses in the course_key dictionary\n",
    "course_counts = course_counts[course_counts.index.isin(course_key.keys())]\n",
    "\n",
    "# Create a bar plot to visualize the distribution of enrolled courses\n",
    "plt.figure(figsize=(12, 6))\n",
    "course_counts.plot(kind='bar', color='violet')\n",
    "plt.title('Distribution of Enrolled Courses')\n",
    "plt.xlabel('Course')\n",
    "plt.ylabel('Number of Students')\n",
    "plt.xticks(rotation=0, ha='center')\n",
    "plt.show()\n",
    "\n",
    "# Print the enrollment counts for each course along with their full names\n",
    "print(\"Course Enrollment:\")\n",
    "for course, count in course_counts.items():\n",
    "    print(f\"{course}: {count} - {course_key[course]}\")"
   ]
  },
  {
   "cell_type": "markdown",
   "metadata": {},
   "source": [
    "## Question 2: What percentage of students heard about CCM through each marketing channel?\n",
    "\n",
    "The code identifies marketing channel columns, calculates the percentage of positive responses for each channel, formats channel names, creates a bar chart to visualize the results, and prints the effectiveness percentages for each marketing channel."
   ]
  },
  {
   "cell_type": "code",
   "execution_count": null,
   "metadata": {},
   "outputs": [],
   "source": [
    "# Function to calculate the percentage of 'Yes' responses\n",
    "def calculate_percentage(series):\n",
    "    # Filter out responses that are not 'Yes' or 'No'\n",
    "    valid_responses = series[series.isin(['Yes', 'No'])]\n",
    "    # Calculate percentage if there are valid responses, otherwise return 0\n",
    "    return (valid_responses == 'Yes').sum() / len(valid_responses) * 100 if len(valid_responses) > 0 else 0\n",
    "\n",
    "# Function to format channel names for better readability\n",
    "def format_channel_name(channel):\n",
    "    return channel.replace('how_did_you_hear_about_county_college_of_morris_', '').replace('_', ' ').title()\n",
    "\n",
    "# Identify columns related to marketing channels\n",
    "marketing_channels = []\n",
    "for col in df.columns:\n",
    "    if col.startswith('how_did_you_hear_about_county_college_of_morris_') and 'check_all_that_apply' not in col:\n",
    "        marketing_channels.append(col)\n",
    "\n",
    "# Calculate percentage of students who heard about CCM through each channel\n",
    "channel_percentages = df[marketing_channels].apply(calculate_percentage)\n",
    "channel_percentages_sorted = channel_percentages.sort_values(ascending=False)\n",
    "\n",
    "# Format channel names for display\n",
    "formatted_labels = []\n",
    "for channel in channel_percentages_sorted.index:\n",
    "    formatted_labels.append(format_channel_name(channel))\n",
    "\n",
    "# Create a bar plot to visualize the effectiveness of each marketing channel\n",
    "plt.figure(figsize=(12, 6))\n",
    "plt.bar(range(len(formatted_labels)), channel_percentages_sorted.values, color='skyblue')\n",
    "plt.title('Percentage of Students Who Heard About CCM Through Each Channel')\n",
    "plt.xlabel('Marketing Channel')\n",
    "plt.ylabel('Percentage of Students')\n",
    "plt.xticks(range(len(formatted_labels)), formatted_labels, rotation=90, ha='center')\n",
    "plt.tight_layout()\n",
    "plt.show()\n",
    "\n",
    "# Print the effectiveness of each marketing channel\n",
    "print(\"Marketing Channel Effectiveness:\")\n",
    "for label, percentage in zip(formatted_labels, channel_percentages_sorted):\n",
    "    print(f\"{label}: {percentage:.2f}%\")"
   ]
  },
  {
   "cell_type": "markdown",
   "metadata": {},
   "source": [
    "## Question 3: Which prior computing experiences were most influential in students' decisions to enroll?\n",
    "\n",
    "This code analyzes and visualizes students' prior computing experiences before applying to County College of Morris."
   ]
  },
  {
   "cell_type": "code",
   "execution_count": null,
   "metadata": {},
   "outputs": [],
   "source": [
    "# Function to calculate the percentage of 'Yes' responses\n",
    "def calculate_yes_percentage(series):\n",
    "    # Filter out responses that are not 'Yes' or 'No'\n",
    "    valid_responses = series[series.isin(['Yes', 'No'])]\n",
    "    yes_count = (valid_responses == 'Yes').sum()\n",
    "    total_valid = len(valid_responses)\n",
    "    # Calculate percentage if there are valid responses, otherwise return 0\n",
    "    return (yes_count / total_valid * 100) if total_valid > 0 else 0\n",
    "\n",
    "# Function to format column names for better readability\n",
    "def format_column_name(col):\n",
    "    # Remove the long prefix from the column name\n",
    "    prefix = 'prior_to_applying_to_college_did_you_participate_in_any_of_the_following_events_or_activities_at_the_county_college_of_morris_andor_with_the_department_of_information_technologies_if_at_all_'\n",
    "    col = col.replace(prefix, '')\n",
    "    # Replace underscores with spaces and capitalize each word\n",
    "    return col.replace('_', ' ').title()\n",
    "\n",
    "# Identify columns related to prior computing experiences\n",
    "experience_columns = []\n",
    "for col in df.columns:\n",
    "    if col.startswith('prior_to_applying_to_college_did_you_participate_in_any_of_the_following_events_or_activities_at_the_county_college_of_morris_andor_with_the_department_of_information_technologies_if_at_all_'):\n",
    "        experience_columns.append(col)\n",
    "\n",
    "# Calculate percentage of students with each prior computing experience\n",
    "experience_percentages = df[experience_columns].apply(calculate_yes_percentage)\n",
    "\n",
    "# Sort experiences by percentage in descending order\n",
    "experience_percentages_sorted = experience_percentages.sort_values(ascending=False)\n",
    "\n",
    "# Format experience names for display\n",
    "formatted_labels = []\n",
    "for col in experience_percentages_sorted.index:\n",
    "    formatted_labels.append(format_column_name(col))\n",
    "\n",
    "# Create a bar plot to visualize the distribution of prior computing experiences\n",
    "plt.figure(figsize=(12, 6))\n",
    "plt.bar(range(len(formatted_labels)), experience_percentages_sorted.values, color='lightgreen')\n",
    "plt.title('Prior Computing Experiences of Students')\n",
    "plt.xlabel('Experience Type')\n",
    "plt.ylabel('Percentage of Students (Yes Responses)')\n",
    "plt.xticks(range(len(formatted_labels)), formatted_labels, rotation=45, ha='right')\n",
    "plt.show()\n",
    "\n",
    "# Print the percentage of students for each prior computing experience\n",
    "print(\"Prior Computing Experiences:\")\n",
    "for label, percentage in zip(formatted_labels, experience_percentages_sorted):\n",
    "    print(f\"{label}: {percentage:.2f}%\")"
   ]
  },
  {
   "cell_type": "markdown",
   "metadata": {},
   "source": [
    "## Question 4: Is there a correlation between gender and interest level in taking more computing courses?\n",
    "\n",
    "This code analyzes and visualizes the relationship between gender and interest level in taking more computing courses at County College of Morris."
   ]
  },
  {
   "cell_type": "code",
   "execution_count": null,
   "metadata": {},
   "outputs": [],
   "source": [
    "# Rename the long column name to a more manageable 'interest_level'\n",
    "df = df.rename(columns={'on_a_scale_of_1_to_5_with_1_being_not_at_all_interested_and_5_being_extremely_interested_how_interested_are_you_taking_more_courses_in_computer_science_information_technology_or_game_development': 'interest_level'})\n",
    "\n",
    "# Convert 'interest_level' to numeric, replacing non-numeric values with NaN\n",
    "df['interest_level'] = pd.to_numeric(df['interest_level'], errors='coerce')\n",
    "\n",
    "# Convert float values to integers, replacing non-integer values with None\n",
    "df['interest_level'] = df['interest_level'].apply(lambda x: int(x) if x.is_integer() else None)\n",
    "\n",
    "# Filter out rows where interest_level is not between 1 and 5\n",
    "df = df[(df['interest_level'] >= 1) & (df['interest_level'] <= 5)]\n",
    "\n",
    "# Remove rows with missing values in 'interest_level' or 'gender'\n",
    "df = df.dropna(subset=['interest_level', 'gender'])\n",
    "\n",
    "# Remove rows where gender is 'Unknown'\n",
    "df = df[df['gender'] != 'Unknown']\n",
    "\n",
    "# Create a contingency table of gender vs interest level\n",
    "contingency_table = pd.crosstab(df['gender'], df['interest_level'])\n",
    "\n",
    "# Calculate percentages for each gender\n",
    "contingency_table_percentage = contingency_table.div(contingency_table.sum(axis=1), axis=0) * 100\n",
    "\n",
    "# Create a stacked bar plot to visualize interest levels by gender\n",
    "plt.figure(figsize=(10, 6))\n",
    "contingency_table_percentage.plot(kind='bar', stacked=True)\n",
    "plt.title('Interest in Taking More Computing Courses by Gender')\n",
    "plt.xlabel('Gender')\n",
    "plt.ylabel('Percentage')\n",
    "plt.legend(title='Interest Level', bbox_to_anchor=(1.05, 1), loc='upper left')\n",
    "plt.show()\n",
    "\n",
    "# Print the contingency table percentages\n",
    "print(\"Contingency Table Percentages:\")\n",
    "print(contingency_table_percentage)\n",
    "\n",
    "# Calculate and print the average interest level by gender\n",
    "average_interest = df.groupby('gender')['interest_level'].mean()\n",
    "print(\"\\nAverage Interest Level by Gender:\")\n",
    "print(average_interest)"
   ]
  }
 ],
 "metadata": {
  "kernelspec": {
   "display_name": "myenv",
   "language": "python",
   "name": "python3"
  },
  "language_info": {
   "codemirror_mode": {
    "name": "ipython",
    "version": 3
   },
   "file_extension": ".py",
   "mimetype": "text/x-python",
   "name": "python",
   "nbconvert_exporter": "python",
   "pygments_lexer": "ipython3",
   "version": "3.9.13"
  }
 },
 "nbformat": 4,
 "nbformat_minor": 2
}
