{
 "cells": [
  {
   "cell_type": "markdown",
   "metadata": {},
   "source": [
    "# Part 3: Data Analysis and Visualization\n",
    "\n",
    "**Name:** Brayden Uglione\n",
    "\n",
    "**Date:** 10/10/24\n",
    "\n",
    "**Exercise:** Project #1, Data Analysis and Visualization\n",
    "\n",
    "**Purpose:** To analyze survey data from non-computing majors and provide insights that can help increase the number of students taking computing classes at CCM."
   ]
  },
  {
   "cell_type": "markdown",
   "metadata": {},
   "source": [
    "## Import Libraries and Load Data"
   ]
  },
  {
   "cell_type": "code",
   "execution_count": null,
   "metadata": {},
   "outputs": [],
   "source": [
    "import pandas as pd\n",
    "import matplotlib.pyplot as plt\n",
    "\n",
    "# Load the cleaned survey results\n",
    "df = pd.read_csv('cleaned_survey_results.csv')"
   ]
  },
  {
   "cell_type": "markdown",
   "metadata": {},
   "source": [
    "## Question 1: Which courses are students enrolled in?\n",
    "\n",
    "The code counts and filters student enrollments in specific courses, visualizes the distribution with a bar chart, and prints the enrollment counts alongside course names."
   ]
  },
  {
   "cell_type": "code",
   "execution_count": null,
   "metadata": {},
   "outputs": [],
   "source": [
    "# Display the distribution of the courses students are enrolled in\n",
    "course_counts = df['which_course_are_you_currently_enrolled_in'].value_counts()\n",
    "\n",
    "# Map course codes to course names\n",
    "course_key = {\n",
    "    'CMP 135': 'Computer Concepts with Applications',\n",
    "    'CMP 101': 'Computer Information Literacy',\n",
    "    'CMP 126': 'Computer Technology and Applications',\n",
    "}\n",
    "\n",
    "# Filter out courses not in the course key\n",
    "course_counts = course_counts[course_counts.index.isin(course_key.keys())]\n",
    "\n",
    "# Plot the distribution of enrolled courses\n",
    "plt.figure(figsize=(12, 6))\n",
    "course_counts.plot(kind='bar', color='violet')\n",
    "plt.title('Distribution of Enrolled Courses')\n",
    "plt.xlabel('Course')\n",
    "plt.ylabel('Number of Students')\n",
    "plt.xticks(rotation=0, ha='center')\n",
    "plt.tight_layout()\n",
    "plt.show()\n",
    "\n",
    "# Display the distribution of enrolled courses\n",
    "print(\"Course Enrollment:\")\n",
    "for course, count in course_counts.items():\n",
    "    print(f\"{course}: {count} - {course_key[course]}\")"
   ]
  },
  {
   "cell_type": "markdown",
   "metadata": {},
   "source": [
    "## Question 2: What percentage of students heard about CCM through each marketing channel?\n",
    "\n",
    "The code identifies marketing channel columns, calculates the percentage of positive responses for each channel, formats channel names, creates a bar chart to visualize the results, and prints the effectiveness percentages for each marketing channel."
   ]
  },
  {
   "cell_type": "code",
   "execution_count": null,
   "metadata": {},
   "outputs": [],
   "source": [
    "# Calculate the percentage of students who heard about CCM through each marketing channel\n",
    "def calculate_percentage(series):\n",
    "    valid_responses = series.dropna()\n",
    "    return (valid_responses == 'Yes').sum() / len(valid_responses) * 100 if len(valid_responses) > 0 else 0\n",
    "\n",
    "# Extract the marketing channel columns\n",
    "marketing_channels = []\n",
    "for col in df.columns:\n",
    "    if col.startswith('how_did_you_hear_about_county_college_of_morris_') and 'check_all_that_apply' not in col:\n",
    "        marketing_channels.append(col)\n",
    "\n",
    "# Use calculate function to find the percentage of students who heard about CCM\n",
    "channel_percentages = df[marketing_channels].apply(calculate_percentage).sort_values(ascending=True)\n",
    "\n",
    "# Format the columns for plotting\n",
    "formatted_labels = []\n",
    "for channel in channel_percentages.index:\n",
    "    formatted_labels.append(channel.replace('how_did_you_hear_about_county_college_of_morris_', '').replace('_', ' ').title())\n",
    "\n",
    "# Plot the percentage of students who heard about CCM\n",
    "plt.figure(figsize=(12, 8))\n",
    "bars = plt.barh(range(len(formatted_labels)), channel_percentages.values)\n",
    "\n",
    "# Color bars based on significance (assuming 5% as the threshold for significance)\n",
    "for i, bar in enumerate(bars):\n",
    "    if channel_percentages.values[i] < 35.435:\n",
    "        bar.set_color('#D3D3D3')  # Light grey for non-significant\n",
    "    else:\n",
    "        bar.set_color('#4682B4')  # Steel blue for significant\n",
    "\n",
    "plt.title('Percentage of Students Who Heard About CCM Through Each Channel', fontsize=18)\n",
    "plt.xlabel('Percentage of Students', fontsize=16)\n",
    "plt.ylabel('Marketing Channel', fontsize=16)\n",
    "plt.yticks(range(len(formatted_labels)), formatted_labels, fontsize=12)\n",
    "plt.xticks(fontsize=12)\n",
    "plt.tight_layout()\n",
    "plt.show()\n",
    "\n",
    "# Display the percentage of students who heard about CCM\n",
    "print(\"Marketing Channel Effectiveness:\")\n",
    "for label, percentage in zip(formatted_labels, channel_percentages):\n",
    "    print(f\"{label}: {percentage:.2f}%\")"
   ]
  },
  {
   "cell_type": "markdown",
   "metadata": {},
   "source": [
    "## Question 3: Which prior computing experiences were most influential in students' decisions to enroll?\n",
    "\n",
    "This code analyzes and visualizes students' prior computing experiences before applying to County College of Morris."
   ]
  },
  {
   "cell_type": "code",
   "execution_count": null,
   "metadata": {},
   "outputs": [],
   "source": [
    "# Calculate the percentage of students who participated in each prior computing experience\n",
    "experience_columns = []\n",
    "for col in df.columns:\n",
    "    if col.startswith('prior_to_applying_to_college_did_you_participate_in_any_of_the_following_events_or_activities_at_the_county_college_of_morris_andor_with_the_department_of_information_technologies_if_at_all_'):\n",
    "        experience_columns.append(col)\n",
    "\n",
    "# Use function to find the percentage of students who participated\n",
    "experience_percentages = df[experience_columns].apply(calculate_percentage).sort_values(ascending=False)\n",
    "\n",
    "# Format the columns for plotting\n",
    "formatted_labels = []\n",
    "for col in experience_percentages.index:\n",
    "    label = col.split('_')[-1].replace('_', ' ').title()\n",
    "    if label == '':\n",
    "        label = 'Other'\n",
    "    formatted_labels.append(label)\n",
    "\n",
    "# Plot the percentage of students who participated\n",
    "plt.figure(figsize=(12, 6))\n",
    "plt.bar(range(len(formatted_labels)), experience_percentages.values, color='lightgreen')\n",
    "plt.title('Prior Computing Experiences of Students')\n",
    "plt.xlabel('Experience Type')\n",
    "plt.ylabel('Percentage of Students (Yes Responses)')\n",
    "plt.xticks(range(len(formatted_labels)), formatted_labels, rotation=45, ha='right')\n",
    "plt.tight_layout()\n",
    "plt.show()\n",
    "\n",
    "# Display the percentage of students who participated\n",
    "print(\"Prior Computing Experiences:\")\n",
    "for label, percentage in zip(formatted_labels, experience_percentages):\n",
    "    print(f\"{label}: {percentage:.2f}%\")"
   ]
  },
  {
   "cell_type": "markdown",
   "metadata": {},
   "source": [
    "## Question 4: Is there a correlation between gender and interest level in taking more computing courses?\n",
    "\n",
    "This code analyzes and visualizes the relationship between gender and interest level in taking more computing courses at County College of Morris."
   ]
  },
  {
   "cell_type": "code",
   "execution_count": null,
   "metadata": {},
   "outputs": [],
   "source": [
    "# Identify columns related to interest in computing courses\n",
    "interest_column = 'on_a_scale_of_1_to_5_with_1_being_not_at_all_interested_and_5_being_extremely_interested_how_interested_are_you_taking_more_courses_in_computer_science_information_technology_or_game_development'\n",
    "df['interest_level'] = pd.to_numeric(df[interest_column], errors='coerce')\n",
    "df = df[(df['interest_level'] >= 1) & (df['interest_level'] <= 5) & (df['gender'].notna()) & (df['gender'] != 'Unknown')]\n",
    "\n",
    "# Create a box plot to visualize the distribution of interest\n",
    "contingency_table = pd.crosstab(df['gender'], df['interest_level'])\n",
    "contingency_table_percentage = contingency_table.div(contingency_table.sum(axis=1), axis=0) * 100\n",
    "\n",
    "# Create a stacked bar plot to visualize the interest in computing\n",
    "plt.figure(figsize=(10, 6))\n",
    "contingency_table_percentage.plot(kind='bar', stacked=True)\n",
    "plt.title('Interest in Taking More Computing Courses by Gender')\n",
    "plt.xlabel('Gender')\n",
    "plt.ylabel('Percentage')\n",
    "plt.legend(title='Interest Level', bbox_to_anchor=(1.05, 1), loc='upper left')\n",
    "plt.xticks(rotation=0)\n",
    "plt.tight_layout()\n",
    "plt.show()\n",
    "\n",
    "# Print the contingency table percentages and average interest level\n",
    "print(\"Contingency Table Percentages:\")\n",
    "print(contingency_table_percentage)\n",
    "\n",
    "# Calculate the average interest level\n",
    "average_interest = df.groupby('gender')['interest_level'].mean()\n",
    "print(\"\\nAverage Interest Level by Gender:\")\n",
    "print(average_interest)"
   ]
  }
 ],
 "metadata": {
  "kernelspec": {
   "display_name": "Python 3",
   "language": "python",
   "name": "python3"
  },
  "language_info": {
   "codemirror_mode": {
    "name": "ipython",
    "version": 3
   },
   "file_extension": ".py",
   "mimetype": "text/x-python",
   "name": "python",
   "nbconvert_exporter": "python",
   "pygments_lexer": "ipython3",
   "version": "3.12.2"
  }
 },
 "nbformat": 4,
 "nbformat_minor": 2
}
