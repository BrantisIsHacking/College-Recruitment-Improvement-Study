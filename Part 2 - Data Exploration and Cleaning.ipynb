{
 "cells": [
  {
   "cell_type": "markdown",
   "metadata": {},
   "source": [
    "# Part 2: Data Exploration and Cleaning\n",
    "\n",
    "**Name:** Brayden Uglione\n",
    "\n",
    "**Date:** 10/1/24\n",
    "\n",
    "**Exercise:** Data Cleaning with Pandas  \n",
    "\n",
    "**Purpose:** Explore and clean survey data from computing and non-computing majors."
   ]
  },
  {
   "cell_type": "markdown",
   "metadata": {},
   "source": [
    "## Data Import\n",
    "Import libraries and read survey results into dataframes."
   ]
  },
  {
   "cell_type": "code",
   "execution_count": 1,
   "metadata": {},
   "outputs": [],
   "source": [
    "import pandas as pd\n",
    "\n",
    "# Read in the datasets\n",
    "df0 = pd.read_csv('Non-Majors Survey Results/Non-Majors Survey Results - Fall 2020.csv')\n",
    "df1 = pd.read_csv('Non-Majors Survey Results/Non-Majors Survey Results - Fall 2021.csv', encoding='latin-1')\n",
    "df2 = pd.read_csv('Non-Majors Survey Results/Non-Majors Survey Results - Fall 2022.csv')\n",
    "df3 = pd.read_csv('Non-Majors Survey Results/Non-Majors Survey Results - Fall 2023.csv')\n",
    "\n",
    "# Combine all dataframes\n",
    "df = pd.concat([df0, df1, df2, df3], ignore_index=True)\n",
    "\n",
    "df.to_csv('concat_non_majors_survey_results.csv', index=False)"
   ]
  },
  {
   "cell_type": "markdown",
   "metadata": {},
   "source": [
    "## Data Exploration\n",
    "Explore the dataset to understand its structure and contents."
   ]
  },
  {
   "cell_type": "code",
   "execution_count": null,
   "metadata": {},
   "outputs": [],
   "source": [
    "# Display basic information\n",
    "print(df.info())"
   ]
  },
  {
   "cell_type": "code",
   "execution_count": null,
   "metadata": {},
   "outputs": [],
   "source": [
    "# Show first few rows\n",
    "print(df.head())"
   ]
  },
  {
   "cell_type": "code",
   "execution_count": null,
   "metadata": {},
   "outputs": [],
   "source": [
    "# Display summary statistics\n",
    "print(df.describe())"
   ]
  },
  {
   "cell_type": "code",
   "execution_count": null,
   "metadata": {},
   "outputs": [],
   "source": [
    "# Show column names and data types\n",
    "print(df.columns)"
   ]
  },
  {
   "cell_type": "markdown",
   "metadata": {},
   "source": [
    "## Data Cleaning\n",
    "Clean the dataset by renaming columns, removing irrelevant features, and condensing values."
   ]
  },
  {
   "cell_type": "code",
   "execution_count": null,
   "metadata": {},
   "outputs": [],
   "source": [
    "# Rename columns to lowercase with underscores\n",
    "df.columns = df.columns.str.lower().str.replace(' ', '_').str.replace('[^a-z0-9_]', '', regex=True).str.replace('?', '')\n",
    "\n",
    "# Identify and remove irrelevant columns\n",
    "columns_to_drop = ['timestamp']\n",
    "for col in df.columns:\n",
    "    if col.startswith('timestamp') or col in ['.1', '.2', '.3']:\n",
    "        columns_to_drop.append(col)\n",
    "df = df.drop(columns=columns_to_drop, errors='ignore')\n",
    "\n",
    "# Clean and condense course names\n",
    "course_column = 'which_course_are_you_currently_enrolled_in'\n",
    "if course_column in df.columns:\n",
    "    df[course_column] = df[course_column].replace({\n",
    "        'CMP 126 Computer Technology and Applications': 'CMP 126',\n",
    "        'CMP 101 Computer Information Literacy': 'CMP 101',\n",
    "        'CMP 135 Computer Concepts with Applications': 'CMP 135',\n",
    "    })\n",
    "\n",
    "# Clean and condense motivation responses\n",
    "motivation_columns = []\n",
    "for col in df.columns:\n",
    "    if col.startswith('what_motivated_you_to_seek_a_computing_class_at_ccm'):\n",
    "        motivation_columns.append(col)\n",
    "for col in motivation_columns:\n",
    "    df[col] = df[col].replace({'Yes': 1, 'No': 0})\n",
    "\n",
    "# Handle missing values\n",
    "df = df.fillna('Unknown')\n",
    "\n",
    "# Save cleaned dataset\n",
    "df.to_csv('cleaned_non_majors_survey_results.csv', index=False)\n",
    "\n",
    "# Display info of cleaned dataset\n",
    "print(df.info())"
   ]
  }
 ],
 "metadata": {
  "kernelspec": {
   "display_name": "myenv",
   "language": "python",
   "name": "python3"
  },
  "language_info": {
   "codemirror_mode": {
    "name": "ipython",
    "version": 3
   },
   "file_extension": ".py",
   "mimetype": "text/x-python",
   "name": "python",
   "nbconvert_exporter": "python",
   "pygments_lexer": "ipython3",
   "version": "3.9.13"
  }
 },
 "nbformat": 4,
 "nbformat_minor": 2
}
