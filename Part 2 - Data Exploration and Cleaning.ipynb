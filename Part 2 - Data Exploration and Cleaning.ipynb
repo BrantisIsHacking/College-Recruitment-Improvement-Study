{
 "cells": [
  {
   "cell_type": "markdown",
   "metadata": {},
   "source": [
    "# Part 2: Data Exploration and Cleaning\n",
    "\n",
    "**Name:** Brayden Uglione\n",
    "\n",
    "**Date:** 10/1/24\n",
    "\n",
    "**Exercise:** Data Cleaning with Pandas  \n",
    "\n",
    "**Purpose:** Explore and clean survey data from computing and non-computing majors."
   ]
  },
  {
   "cell_type": "markdown",
   "metadata": {},
   "source": [
    "## Data Import\n",
    "Import libraries and read survey results into dataframes."
   ]
  },
  {
   "cell_type": "code",
   "execution_count": 7,
   "metadata": {},
   "outputs": [],
   "source": [
    "import pandas as pd\n",
    "\n",
    "# Read in the datasets\n",
    "df0 = pd.read_csv('Non-Majors Survey Results/Non-Majors Survey Results - Fall 2020.csv')\n",
    "df1 = pd.read_csv('Non-Majors Survey Results/Non-Majors Survey Results - Fall 2021.csv', encoding='latin-1')\n",
    "df2 = pd.read_csv('Non-Majors Survey Results/Non-Majors Survey Results - Fall 2022.csv')\n",
    "df3 = pd.read_csv('Non-Majors Survey Results/Non-Majors Survey Results - Fall 2023.csv')\n",
    "\n",
    "# Combine all dataframes\n",
    "df = pd.concat([df0, df1, df2, df3], ignore_index=True)\n",
    "\n",
    "df.to_csv('concat_non_majors_survey_results.csv', index=False)"
   ]
  },
  {
   "cell_type": "markdown",
   "metadata": {},
   "source": [
    "## Data Exploration\n",
    "Explore the dataset to understand its structure and contents."
   ]
  },
  {
   "cell_type": "code",
   "execution_count": 8,
   "metadata": {},
   "outputs": [
    {
     "name": "stdout",
     "output_type": "stream",
     "text": [
      "<class 'pandas.core.frame.DataFrame'>\n",
      "RangeIndex: 564 entries, 0 to 563\n",
      "Columns: 130 entries, Timestamp to Did you receive information about CCM computing classes from any of the following sources? [Other]\n",
      "dtypes: float64(4), object(126)\n",
      "memory usage: 572.9+ KB\n",
      "None\n"
     ]
    }
   ],
   "source": [
    "# Display basic information\n",
    "print(df.info())"
   ]
  },
  {
   "cell_type": "code",
   "execution_count": 9,
   "metadata": {},
   "outputs": [
    {
     "name": "stdout",
     "output_type": "stream",
     "text": [
      "                    Timestamp  Which course are you currently enrolled in?  \\\n",
      "0  2020/07/08 10:30:22 AM EST  CMP 135 Computer Concepts with Applications   \n",
      "1  2020/07/08 11:15:08 AM EST  CMP 135 Computer Concepts with Applications   \n",
      "2  2020/07/08 11:22:23 AM EST  CMP 135 Computer Concepts with Applications   \n",
      "3   2020/07/08 2:14:53 PM EST  CMP 135 Computer Concepts with Applications   \n",
      "4   2020/07/08 3:34:11 PM EST  CMP 135 Computer Concepts with Applications   \n",
      "\n",
      "  What motivated you to seek a computing class at CCM?  \\\n",
      "0   It’s a required class for the degree I’m seeking     \n",
      "1  It’s a required class for the degree I’m seeki...     \n",
      "2  To keep current in computing skills;Career Adv...     \n",
      "3   It’s a required class for the degree I’m seeking     \n",
      "4   It’s a required class for the degree I’m seeking     \n",
      "\n",
      "  Prior to applying to college, did you participate in any of the following events or activities at the County College of Morris and/or with the Department of Information Technologies, if at all? [Open House]  \\\n",
      "0                                                 No                                                                                                                                                               \n",
      "1                                                 No                                                                                                                                                               \n",
      "2                                                 No                                                                                                                                                               \n",
      "3                                                 No                                                                                                                                                               \n",
      "4                                                 No                                                                                                                                                               \n",
      "\n",
      "  Prior to applying to college, did you participate in any of the following events or activities at the County College of Morris and/or with the Department of Information Technologies, if at all? [Instant Decision Day]  \\\n",
      "0                                                 No                                                                                                                                                                         \n",
      "1                                                 No                                                                                                                                                                         \n",
      "2                                                 No                                                                                                                                                                         \n",
      "3                                                 No                                                                                                                                                                         \n",
      "4                                                 No                                                                                                                                                                         \n",
      "\n",
      "  Prior to applying to college, did you participate in any of the following events or activities at the County College of Morris and/or with the Department of Information Technologies, if at all? [On-Campus Information Session]  \\\n",
      "0                                                 No                                                                                                                                                                                  \n",
      "1                                                 No                                                                                                                                                                                  \n",
      "2                                                 No                                                                                                                                                                                  \n",
      "3                                                Yes                                                                                                                                                                                  \n",
      "4                                                 No                                                                                                                                                                                  \n",
      "\n",
      "  Prior to applying to college, did you participate in any of the following events or activities at the County College of Morris and/or with the Department of Information Technologies, if at all? [Virtual Information Session]  \\\n",
      "0                                                 No                                                                                                                                                                                \n",
      "1                                                Yes                                                                                                                                                                                \n",
      "2                                                 No                                                                                                                                                                                \n",
      "3                                                 No                                                                                                                                                                                \n",
      "4                                                 No                                                                                                                                                                                \n",
      "\n",
      "  Prior to applying to college, did you participate in any of the following events or activities at the County College of Morris and/or with the Department of Information Technologies, if at all? [Women Who Dare]  \\\n",
      "0                                                 No                                                                                                                                                                   \n",
      "1                                                 No                                                                                                                                                                   \n",
      "2                                                 No                                                                                                                                                                   \n",
      "3                                                 No                                                                                                                                                                   \n",
      "4                                                 No                                                                                                                                                                   \n",
      "\n",
      "  Prior to applying to college, did you participate in any of the following events or activities at the County College of Morris and/or with the Department of Information Technologies, if at all? [Regional College Fair]  \\\n",
      "0                                                 No                                                                                                                                                                          \n",
      "1                                                 No                                                                                                                                                                          \n",
      "2                                                 No                                                                                                                                                                          \n",
      "3                                                 No                                                                                                                                                                          \n",
      "4                                                 No                                                                                                                                                                          \n",
      "\n",
      "  To what extent did the following activities or experience impact your decision to enroll in an computing course at CCM? [Middle/High school computing class]  \\\n",
      "0                                          No Impact                                                                                                             \n",
      "1                                        Some Impact                                                                                                             \n",
      "2                                          No Impact                                                                                                             \n",
      "3                                          No Impact                                                                                                             \n",
      "4                                        High Impact                                                                                                             \n",
      "\n",
      "   ...  \\\n",
      "0  ...   \n",
      "1  ...   \n",
      "2  ...   \n",
      "3  ...   \n",
      "4  ...   \n",
      "\n",
      "  To what extent did the following activities or experience impact your decision to enroll in an computing course at CCM? [CCM advisor/counselor]  \\\n",
      "0                                                NaN                                                                                                \n",
      "1                                                NaN                                                                                                \n",
      "2                                                NaN                                                                                                \n",
      "3                                                NaN                                                                                                \n",
      "4                                                NaN                                                                                                \n",
      "\n",
      "  Did you receive information about CCM computing classes from any of the following sources? [High school guidance counselor]  \\\n",
      "0                                                NaN                                                                            \n",
      "1                                                NaN                                                                            \n",
      "2                                                NaN                                                                            \n",
      "3                                                NaN                                                                            \n",
      "4                                                NaN                                                                            \n",
      "\n",
      "  Did you receive information about CCM computing classes from any of the following sources? [High School Teacher]  \\\n",
      "0                                                NaN                                                                 \n",
      "1                                                NaN                                                                 \n",
      "2                                                NaN                                                                 \n",
      "3                                                NaN                                                                 \n",
      "4                                                NaN                                                                 \n",
      "\n",
      "  Did you receive information about CCM computing classes from any of the following sources? [CCM Information Technologies Website]  \\\n",
      "0                                                NaN                                                                                  \n",
      "1                                                NaN                                                                                  \n",
      "2                                                NaN                                                                                  \n",
      "3                                                NaN                                                                                  \n",
      "4                                                NaN                                                                                  \n",
      "\n",
      "  Did you receive information about CCM computing classes from any of the following sources? [CCM Admissions]  \\\n",
      "0                                                NaN                                                            \n",
      "1                                                NaN                                                            \n",
      "2                                                NaN                                                            \n",
      "3                                                NaN                                                            \n",
      "4                                                NaN                                                            \n",
      "\n",
      "  Did you receive information about CCM computing classes from any of the following sources? [CCM advisor/counselor]  \\\n",
      "0                                                NaN                                                                   \n",
      "1                                                NaN                                                                   \n",
      "2                                                NaN                                                                   \n",
      "3                                                NaN                                                                   \n",
      "4                                                NaN                                                                   \n",
      "\n",
      "  Did you receive information about CCM computing classes from any of the following sources? [Employer]  \\\n",
      "0                                                NaN                                                      \n",
      "1                                                NaN                                                      \n",
      "2                                                NaN                                                      \n",
      "3                                                NaN                                                      \n",
      "4                                                NaN                                                      \n",
      "\n",
      "  Did you receive information about CCM computing classes from any of the following sources? [CCM Workforce Development]  \\\n",
      "0                                                NaN                                                                       \n",
      "1                                                NaN                                                                       \n",
      "2                                                NaN                                                                       \n",
      "3                                                NaN                                                                       \n",
      "4                                                NaN                                                                       \n",
      "\n",
      "  Did you receive information about CCM computing classes from any of the following sources? [NJ Workforce Development Program]  \\\n",
      "0                                                NaN                                                                              \n",
      "1                                                NaN                                                                              \n",
      "2                                                NaN                                                                              \n",
      "3                                                NaN                                                                              \n",
      "4                                                NaN                                                                              \n",
      "\n",
      "  Did you receive information about CCM computing classes from any of the following sources? [Other]  \n",
      "0                                                NaN                                                  \n",
      "1                                                NaN                                                  \n",
      "2                                                NaN                                                  \n",
      "3                                                NaN                                                  \n",
      "4                                                NaN                                                  \n",
      "\n",
      "[5 rows x 130 columns]\n"
     ]
    }
   ],
   "source": [
    "# Show first few rows\n",
    "print(df.head())"
   ]
  },
  {
   "cell_type": "code",
   "execution_count": 10,
   "metadata": {},
   "outputs": [
    {
     "name": "stdout",
     "output_type": "stream",
     "text": [
      "       On a scale of 1 to 5, with 1 being not at all interested and 5 being extremely interested, how interested are you taking more courses in Computer Science, Information Technology or Game Development?  \\\n",
      "count                                         564.000000                                                                                                                                                        \n",
      "mean                                            2.581124                                                                                                                                                        \n",
      "std                                             1.219369                                                                                                                                                        \n",
      "min                                             1.000000                                                                                                                                                        \n",
      "25%                                             2.000000                                                                                                                                                        \n",
      "50%                                             3.000000                                                                                                                                                        \n",
      "75%                                             3.000000                                                                                                                                                        \n",
      "max                                            13.000000                                                                                                                                                        \n",
      "\n",
      "                   Unnamed: 77  Count of Criminal Justice Majors  \n",
      "count  122.000000          0.0                          2.000000  \n",
      "mean     4.459016          NaN                          7.576923  \n",
      "std      1.449694          NaN                          7.669389  \n",
      "min      1.000000          NaN                          2.153846  \n",
      "25%      4.000000          NaN                          4.865385  \n",
      "50%      4.000000          NaN                          7.576923  \n",
      "75%      6.000000          NaN                         10.288462  \n",
      "max      7.000000          NaN                         13.000000  \n"
     ]
    }
   ],
   "source": [
    "# Display summary statistics\n",
    "print(df.describe())"
   ]
  },
  {
   "cell_type": "code",
   "execution_count": 11,
   "metadata": {},
   "outputs": [
    {
     "name": "stdout",
     "output_type": "stream",
     "text": [
      "Index(['Timestamp', 'Which course are you currently enrolled in?',\n",
      "       'What motivated you to seek a computing class at CCM?',\n",
      "       'Prior to applying to college, did you participate in any of the following events or activities at the County College of Morris and/or with the Department of Information Technologies, if at all? [Open House]',\n",
      "       'Prior to applying to college, did you participate in any of the following events or activities at the County College of Morris and/or with the Department of Information Technologies, if at all? [Instant Decision Day]',\n",
      "       'Prior to applying to college, did you participate in any of the following events or activities at the County College of Morris and/or with the Department of Information Technologies, if at all? [On-Campus Information Session]',\n",
      "       'Prior to applying to college, did you participate in any of the following events or activities at the County College of Morris and/or with the Department of Information Technologies, if at all? [Virtual Information Session]',\n",
      "       'Prior to applying to college, did you participate in any of the following events or activities at the County College of Morris and/or with the Department of Information Technologies, if at all? [Women Who Dare]',\n",
      "       'Prior to applying to college, did you participate in any of the following events or activities at the County College of Morris and/or with the Department of Information Technologies, if at all? [Regional College Fair]',\n",
      "       'To what extent did the following activities or experience impact your decision to enroll in an computing course at CCM? [Middle/High school computing class]',\n",
      "       ...\n",
      "       'To what extent did the following activities or experience impact your decision to enroll in an computing course at CCM? [CCM advisor/counselor]',\n",
      "       'Did you receive information about CCM computing classes from any of the following sources? [High school guidance counselor]',\n",
      "       'Did you receive information about CCM computing classes from any of the following sources? [High School Teacher]',\n",
      "       'Did you receive information about CCM computing classes from any of the following sources? [CCM Information Technologies Website]',\n",
      "       'Did you receive information about CCM computing classes from any of the following sources? [CCM Admissions]',\n",
      "       'Did you receive information about CCM computing classes from any of the following sources? [CCM advisor/counselor]',\n",
      "       'Did you receive information about CCM computing classes from any of the following sources? [Employer]',\n",
      "       'Did you receive information about CCM computing classes from any of the following sources? [CCM Workforce Development]',\n",
      "       'Did you receive information about CCM computing classes from any of the following sources? [NJ Workforce Development Program]',\n",
      "       'Did you receive information about CCM computing classes from any of the following sources? [Other]'],\n",
      "      dtype='object', length=130)\n"
     ]
    }
   ],
   "source": [
    "# Show column names and data types\n",
    "print(df.columns)"
   ]
  },
  {
   "cell_type": "markdown",
   "metadata": {},
   "source": [
    "## Data Cleaning\n",
    "Clean the dataset by renaming columns, removing irrelevant features, and condensing values."
   ]
  },
  {
   "cell_type": "code",
   "execution_count": 12,
   "metadata": {},
   "outputs": [
    {
     "name": "stdout",
     "output_type": "stream",
     "text": [
      "<class 'pandas.core.frame.DataFrame'>\n",
      "RangeIndex: 564 entries, 0 to 563\n",
      "Columns: 128 entries, which_course_are_you_currently_enrolled_in to did_you_receive_information_about_ccm_computing_classes_from_any_of_the_following_sources_[other]\n",
      "dtypes: float64(1), object(127)\n",
      "memory usage: 564.1+ KB\n",
      "None\n"
     ]
    },
    {
     "name": "stderr",
     "output_type": "stream",
     "text": [
      "C:\\Users\\brant\\AppData\\Local\\Temp\\ipykernel_7504\\1720435788.py:23: FutureWarning: Downcasting behavior in `replace` is deprecated and will be removed in a future version. To retain the old behavior, explicitly call `result.infer_objects(copy=False)`. To opt-in to the future behavior, set `pd.set_option('future.no_silent_downcasting', True)`\n",
      "  df[col] = df[col].replace({'Yes': 1, 'No': 0})\n"
     ]
    }
   ],
   "source": [
    "# Rename columns to lowercase with underscores\n",
    "df.columns = df.columns.str.lower().str.replace(' ', '_').str.replace('[^a-z0-9_]', '').str.replace('?', '')\n",
    "\n",
    "# Identify and remove irrelevant columns\n",
    "columns_to_drop = ['timestamp']\n",
    "for col in df.columns:\n",
    "    if col.startswith('timestamp') or col in ['.1', '.2', '.3']:\n",
    "        columns_to_drop.append(col)\n",
    "df = df.drop(columns=columns_to_drop, errors='ignore')\n",
    "\n",
    "# Clean and condense course names\n",
    "course_column = 'which_course_are_you_currently_enrolled_in'\n",
    "if course_column in df.columns:\n",
    "    df[course_column] = df[course_column].replace({\n",
    "        'CMP 126 Computer Technology and Applications': 'CMP 126',\n",
    "        'CMP 101 Computer Information Literacy': 'CMP 101',\n",
    "        'CMP 135 Computer Concepts with Applications': 'CMP 135',\n",
    "    })\n",
    "\n",
    "# Clean and condense motivation responses\n",
    "motivation_columns = [col for col in df.columns if col.startswith('what_motivated_you_to_seek_a_computing_class_at_ccm')]\n",
    "for col in motivation_columns:\n",
    "    df[col] = df[col].replace({'Yes': 1, 'No': 0})\n",
    "\n",
    "# Handle missing values\n",
    "df = df.fillna('Unknown')\n",
    "\n",
    "# Save cleaned dataset\n",
    "df.to_csv('cleaned_non_majors_survey_results.csv', index=False)\n",
    "\n",
    "# Display info of cleaned dataset\n",
    "print(df.info())"
   ]
  }
 ],
 "metadata": {
  "kernelspec": {
   "display_name": "Python 3",
   "language": "python",
   "name": "python3"
  },
  "language_info": {
   "codemirror_mode": {
    "name": "ipython",
    "version": 3
   },
   "file_extension": ".py",
   "mimetype": "text/x-python",
   "name": "python",
   "nbconvert_exporter": "python",
   "pygments_lexer": "ipython3",
   "version": "3.12.2"
  }
 },
 "nbformat": 4,
 "nbformat_minor": 2
}
